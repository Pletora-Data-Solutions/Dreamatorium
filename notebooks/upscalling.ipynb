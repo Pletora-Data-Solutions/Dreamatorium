{
 "cells": [
  {
   "cell_type": "code",
   "execution_count": 1,
   "id": "927fe88f-52b8-4be1-ac61-86064ef92b55",
   "metadata": {},
   "outputs": [],
   "source": [
    "import cv2\n",
    "import matplotlib.pyplot as plt\n",
    "from skimage import io\n",
    "from PIL import Image"
   ]
  },
  {
   "cell_type": "code",
   "execution_count": 2,
   "id": "de9dac42-d349-4c02-a5c8-bb19f314d915",
   "metadata": {},
   "outputs": [],
   "source": [
    "figures = ['https://encrypted-tbn0.gstatic.com/images?q=tbn:ANd9GcQdAtF2GzAoXFBEJ2plFhoFZ4GXZ-SZ3J9yWRZ-hos_1QwA-IHqFlL3A8mw-8EaQFCWdyQ&usqp=CAU',\n",
    "            'https://encrypted-tbn0.gstatic.com/images?q=tbn:ANd9GcROv6K5reSBnLdnGY7BBfkEMvD3y54MSoiMT1SFNkWr5KcZVv_Rb3Ht9Q0VHf3rVvdY8Z8&usqp=CAU',\n",
    "            'https://encrypted-tbn0.gstatic.com/images?q=tbn:ANd9GcTL5wKOjDaGeeaOAbxR8g2-VsljK2FT1h6AKTG7U4rHcp0rt-tmrYIWP46w9REiqP4JOtk&usqp=CAU',\n",
    "            'https://encrypted-tbn0.gstatic.com/images?q=tbn:ANd9GcTAoMnIpP-8Ol0NruZ7nuPpCOh-4ULSBwVVErnxkw_tjdl9iYbv2K0WgT69SaAdZKVZlQc&usqp=CAU']\n",
    "\n",
    "figure1024 = 'https://wallscloud.net/img/resize/1024/1024/MM/2016-09-30-shocked-cat-face-K13J.jpg'"
   ]
  },
  {
   "cell_type": "code",
   "execution_count": 3,
   "id": "a6bd0039-9857-41e2-a229-800195a0900c",
   "metadata": {},
   "outputs": [],
   "source": [
    "# Read image\n",
    "img = io.imread(figure1024)\n",
    "to_save = Image.fromarray(img, 'RGB')\n",
    "to_save.save('images/cat_raw.png')\n",
    "to_save.show()"
   ]
  },
  {
   "cell_type": "code",
   "execution_count": 4,
   "id": "4c6a2d39-633e-4a84-93fc-df5f224fe7bb",
   "metadata": {},
   "outputs": [],
   "source": [
    "# OpenCV Resized Linear Interpolation\n",
    "for i in [2, 3, 4, 8]:\n",
    "    resized = cv2.resize(img,dsize=None,fx=i,fy=i)\n",
    "\n",
    "    to_save = Image.fromarray(resized, 'RGB')\n",
    "    to_save.save(f'images/cat_linear_{str(i)}x.png')\n",
    "    to_save.show()"
   ]
  },
  {
   "cell_type": "code",
   "execution_count": 5,
   "id": "fa702fd2-80a4-4324-abb0-467e34115763",
   "metadata": {},
   "outputs": [],
   "source": [
    "# OpenCV Resized Cubic Interpolation\n",
    "for i in [2, 3, 4, 8]:\n",
    "    resized = cv2.resize(img,dsize=None,fx=i,fy=i, interpolation = cv2.INTER_CUBIC)\n",
    "\n",
    "    to_save = Image.fromarray(resized, 'RGB')\n",
    "    to_save.save(f'images/cat_cubic_{str(i)}x.png')\n",
    "    to_save.show()"
   ]
  },
  {
   "cell_type": "code",
   "execution_count": 9,
   "id": "cc7e56a8-70af-46ed-805d-8ab6c88a2140",
   "metadata": {},
   "outputs": [],
   "source": [
    "sr = cv2.dnn_superres.DnnSuperResImpl_create()"
   ]
  },
  {
   "cell_type": "code",
   "execution_count": 10,
   "id": "cf2fb927-3307-4f0e-bd71-cf9939eabb29",
   "metadata": {},
   "outputs": [],
   "source": [
    "path = \"models/EDSR_x2.pb\"\n",
    " \n",
    "sr.readModel(path)\n",
    " \n",
    "sr.setModel(\"edsr\",2)\n",
    " \n",
    "result = sr.upsample(img)\n",
    "\n",
    "to_save = Image.fromarray(result, 'RGB')\n",
    "to_save.save('images/cat_edsr_2x.png')\n",
    "to_save.show()"
   ]
  },
  {
   "cell_type": "code",
   "execution_count": 7,
   "id": "302bc589-e24d-43f2-851e-348e239692be",
   "metadata": {},
   "outputs": [],
   "source": [
    "# path = \"../models/LapSRN_x8.pb\"\n",
    " \n",
    "# sr.readModel(path)\n",
    " \n",
    "# sr.setModel(\"lapsrn\",8)\n",
    " \n",
    "# result = sr.upsample(img)\n",
    "\n",
    "# to_save = Image.fromarray(result, 'RGB')\n",
    "# to_save.save('images/cat_lapsnr_8x.png')\n",
    "# to_save.show()"
   ]
  },
  {
   "cell_type": "code",
   "execution_count": 8,
   "id": "e9d13a2d-e27f-4a68-a10c-a226c36f1ec7",
   "metadata": {},
   "outputs": [],
   "source": [
    "# path = \"models/EDSR_x4.pb\"\n",
    " \n",
    "# sr.readModel(path)\n",
    " \n",
    "# sr.setModel(\"edsr\",4)\n",
    " \n",
    "# result2 = sr.upsample(img)\n",
    "\n",
    "# to_save = Image.fromarray(result2, 'RGB')\n",
    "# to_save.save('images/cat_edsr_4x.png')\n",
    "# to_save.show()"
   ]
  }
 ],
 "metadata": {
  "kernelspec": {
   "display_name": "Python 3 (ipykernel)",
   "language": "python",
   "name": "python3"
  },
  "language_info": {
   "codemirror_mode": {
    "name": "ipython",
    "version": 3
   },
   "file_extension": ".py",
   "mimetype": "text/x-python",
   "name": "python",
   "nbconvert_exporter": "python",
   "pygments_lexer": "ipython3",
   "version": "3.10.7"
  }
 },
 "nbformat": 4,
 "nbformat_minor": 5
}
