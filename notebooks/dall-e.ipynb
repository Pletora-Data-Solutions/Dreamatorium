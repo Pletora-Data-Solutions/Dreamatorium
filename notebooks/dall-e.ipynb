{
 "cells": [
  {
   "cell_type": "code",
   "execution_count": 1,
   "id": "e66431ef-54c7-4f75-a33b-ac13d20b2bbf",
   "metadata": {},
   "outputs": [],
   "source": [
    "import openai\n",
    "import os\n",
    "import requests"
   ]
  },
  {
   "cell_type": "code",
   "execution_count": 4,
   "id": "563bfea0-e642-4cf4-859c-9ffd101358cc",
   "metadata": {},
   "outputs": [
    {
     "name": "stdout",
     "output_type": "stream",
     "text": [
      "https://oaidalleapiprodscus.blob.core.windows.net/private/org-Urk1Ei6EFtzc2wwglwsAwRn9/user-cEbUCUAiJdVX1KyztFbGyhEg/img-pr82Co6CRFl6HO72L1ioxJA8.png?st=2023-07-14T22%3A51%3A03Z&se=2023-07-15T00%3A51%3A03Z&sp=r&sv=2021-08-06&sr=b&rscd=inline&rsct=image/png&skoid=6aaadede-4fb3-4698-a8f6-684d7786b067&sktid=a48cca56-e6da-484e-a814-9c849652bcb3&skt=2023-07-14T20%3A37%3A35Z&ske=2023-07-15T20%3A37%3A35Z&sks=b&skv=2021-08-06&sig=UW579AvrEOeO/%2BtrHULNe1mIg3SnL7KF9KvP1vxOZJM%3D\n"
     ]
    }
   ],
   "source": [
    "# Your DALL-E API key\n",
    "openai.api_key = os.getenv(\"OPENAI_API_KEY\")\n",
    "\n",
    "\n",
    "# The text prompt you want to use to generate an image\n",
    "prompt = \"Inspired by the surreal, a masterful photographer surreptitiously captures an ethereal image, where an enigmatic cult immerses themselves in worship around a mesmerizing alien monolith. Veiled within an aura of secrecy and enigma, their mystic rituals unfold against a backdrop of surreal landscapes, creating a captivating and otherworldly composition.\"\n",
    "\n",
    "# Generate an image\n",
    "response = openai.Image.create(\n",
    "    prompt=prompt,\n",
    "    size=\"1024x1024\",\n",
    "    response_format=\"url\"\n",
    ")\n",
    "\n",
    "# Print the URL of the generated image\n",
    "print(response[\"data\"][0][\"url\"])"
   ]
  },
  {
   "cell_type": "code",
   "execution_count": null,
   "id": "314488e1-c674-4b29-bb63-6f9aa9dedcc3",
   "metadata": {},
   "outputs": [],
   "source": []
  }
 ],
 "metadata": {
  "kernelspec": {
   "display_name": "Python 3 (ipykernel)",
   "language": "python",
   "name": "python3"
  },
  "language_info": {
   "codemirror_mode": {
    "name": "ipython",
    "version": 3
   },
   "file_extension": ".py",
   "mimetype": "text/x-python",
   "name": "python",
   "nbconvert_exporter": "python",
   "pygments_lexer": "ipython3",
   "version": "3.10.7"
  }
 },
 "nbformat": 4,
 "nbformat_minor": 5
}
